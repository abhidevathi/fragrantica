{
 "cells": [
  {
   "cell_type": "code",
   "execution_count": 93,
   "id": "b515292d",
   "metadata": {},
   "outputs": [],
   "source": [
    "import os\n",
    "import requests\n",
    "import re\n",
    "from fake_useragent import UserAgent\n",
    "\n",
    "from engines import utilities\n",
    "\n",
    "import pandas as pd\n",
    "from bs4 import BeautifulSoup\n",
    "import numpy as np"
   ]
  },
  {
   "cell_type": "code",
   "execution_count": 104,
   "id": "95d8f730-1e79-41b9-a754-838d0a767195",
   "metadata": {},
   "outputs": [],
   "source": [
    "def p2f(x):\n",
    "    return float(x.strip('%'))/100\n",
    "\n",
    "def s2f(x):\n",
    "    return float(x.replace(',',''))"
   ]
  },
  {
   "cell_type": "code",
   "execution_count": 95,
   "id": "835fd948-0b7c-421a-a570-01ee64b4cd20",
   "metadata": {},
   "outputs": [
    {
     "name": "stdout",
     "output_type": "stream",
     "text": [
      "200\n"
     ]
    }
   ],
   "source": [
    "ua = UserAgent()\n",
    "headers = {\"User-Agent\": ua.random}\n",
    "response = requests.get(\"https://www.fragrantica.com/perfume/Creed/Aventus-9828.html\", headers=headers)\n",
    "print(response.status_code)"
   ]
  },
  {
   "cell_type": "code",
   "execution_count": 113,
   "id": "50c4a2ed-a41e-4f0a-adea-ca906ce426c8",
   "metadata": {},
   "outputs": [],
   "source": [
    "# URL of a perfume page\n",
    "url = \"https://www.fragrantica.com/perfume/Creed/Aventus-9828.html\"\n",
    "# url = 'https://www.fragrantica.com/perfume/Le-Labo/Tonka-25-51697.html'"
   ]
  },
  {
   "cell_type": "code",
   "execution_count": 114,
   "id": "6edb44e9-7c25-4d11-93b0-5825484cdd08",
   "metadata": {},
   "outputs": [],
   "source": [
    "def create_perfume_dict(url):\n",
    "    headers = {\"User-Agent\": ua.random} # Create a new header every time we do a pull from the API\n",
    "    response = requests.get(url, headers=headers)\n",
    "    if response.status_code == 200:\n",
    "        soup = BeautifulSoup(response.content, \"html.parser\")\n",
    "    \n",
    "        perfume_dict={}\n",
    "        perfume_dict['url']=url\n",
    "        \n",
    "        # Extract data\n",
    "        perfume_dict['name'] = soup.find(\"h1\").text.strip()\n",
    "        name = soup.find(\"h1\").text.strip()\n",
    "        gender=''\n",
    "        if 'women' in name and 'men' in name:\n",
    "            gender='unisex'\n",
    "        elif 'men' in name:\n",
    "            gender='male'\n",
    "        elif 'female' in name:\n",
    "            gender='female'\n",
    "        \n",
    "        perfume_dict['gender']=gender\n",
    "        perfume_dict['brand'] = soup.find(\"span\", {\"itemprop\": \"name\"}).text.strip()\n",
    "        perfume_dict['rating'] = s2f(soup.find(\"span\", {\"itemprop\": \"ratingValue\"}).text.strip())\n",
    "        perfume_dict['vote'] = s2f(soup.find(\"span\", {\"itemprop\": \"ratingCount\"}).text.strip())\n",
    "        \n",
    "        # Accords\n",
    "        accords = soup.find_all(\"div\", class_=\"accord-bar\")\n",
    "        accord_dict = {}\n",
    "        for accord in accords:\n",
    "            style=accord['style']\n",
    "            width_match = re.search(r\"width\\s*:\\s*([^;]+)\", style, re.IGNORECASE)\n",
    "            if width_match:\n",
    "                width = p2f(width_match.group(1).strip())\n",
    "            else:\n",
    "                width = 0\n",
    "            accord_dict[accord.get_text()]=width\n",
    "    \n",
    "        perfume_dict['accords']=accord_dict\n",
    "        '''\n",
    "            Get notes saved into a_tags\n",
    "        '''\n",
    "        \n",
    "        a_tags = soup.find_all(\"a\", href=lambda href: href and href.startswith(\"https://www.fragrantica.com/notes/\"))\n",
    "        note_dict={}\n",
    "        if a_tags:\n",
    "            for a_tag in a_tags:\n",
    "                target_div = a_tag.parent\n",
    "                note_text = target_div.get_text(strip=True, separator=\" \").replace(a_tag.get_text(strip=True), \"\").strip().lower()\n",
    "                note_dict[note_text]=a_tag['href']\n",
    "        else:\n",
    "            print(\"No matching <a> tags found.\")\n",
    "        perfume_dict['notes']=note_dict\n",
    "        return perfume_dict\n",
    "        \n",
    "    else:\n",
    "        print(f\"Failed to retrieve page: {response.status_code}\")\n",
    "        return None"
   ]
  },
  {
   "cell_type": "code",
   "execution_count": 115,
   "id": "b080f156-fe0c-49e4-ae26-71d956a221b3",
   "metadata": {},
   "outputs": [],
   "source": [
    "perfume_dict = create_perfume_dict(url)"
   ]
  },
  {
   "cell_type": "code",
   "execution_count": 116,
   "id": "9e8619a9-e23d-4d45-ad44-fd8bd6e5b4fb",
   "metadata": {},
   "outputs": [
    {
     "data": {
      "text/plain": [
       "{'url': 'https://www.fragrantica.com/perfume/Creed/Aventus-9828.html',\n",
       " 'name': 'Aventus Creed for men',\n",
       " 'gender': 'male',\n",
       " 'brand': 'Creed',\n",
       " 'rating': 4.33,\n",
       " 'vote': 22410.0,\n",
       " 'accords': {'fruity': 1.0,\n",
       "  'sweet': 0.6835487005975099,\n",
       "  'woody': 0.6501511770210899,\n",
       "  'leather': 0.63863232788616,\n",
       "  'smoky': 0.57090502243659,\n",
       "  'citrus': 0.55675737287932,\n",
       "  'musky': 0.5384817507738799,\n",
       "  'tropical': 0.52288532143114,\n",
       "  'fresh': 0.51834581143666,\n",
       "  'mossy': 0.46150325150577},\n",
       " 'notes': {'bergamot': 'https://www.fragrantica.com/notes/Bergamot-75.html',\n",
       "  'black currant': 'https://www.fragrantica.com/notes/Black-Currant-132.html',\n",
       "  'apple': 'https://www.fragrantica.com/notes/Apple-146.html',\n",
       "  'lemon': 'https://www.fragrantica.com/notes/Lemon-77.html',\n",
       "  'pink pepper': 'https://www.fragrantica.com/notes/Pink-Pepper-91.html',\n",
       "  'pineapple': 'https://www.fragrantica.com/notes/Pineapple-170.html',\n",
       "  'patchouli': 'https://www.fragrantica.com/notes/Patchouli-34.html',\n",
       "  'moroccan jasmine': 'https://www.fragrantica.com/notes/Jasmine-14.html',\n",
       "  'birch': 'https://www.fragrantica.com/notes/Birch-31.html',\n",
       "  'musk': 'https://www.fragrantica.com/notes/Musk-4.html',\n",
       "  'oak moss': 'https://www.fragrantica.com/notes/Oakmoss-39.html',\n",
       "  'ambroxan': 'https://www.fragrantica.com/notes/Ambroxan-563.html',\n",
       "  'cedarwood': 'https://www.fragrantica.com/notes/Cedar-41.html'}}"
      ]
     },
     "execution_count": 116,
     "metadata": {},
     "output_type": "execute_result"
    }
   ],
   "source": [
    "perfume_dict"
   ]
  }
 ],
 "metadata": {
  "kernelspec": {
   "display_name": "streamlit",
   "language": "python",
   "name": "streamlit"
  },
  "language_info": {
   "codemirror_mode": {
    "name": "ipython",
    "version": 3
   },
   "file_extension": ".py",
   "mimetype": "text/x-python",
   "name": "python",
   "nbconvert_exporter": "python",
   "pygments_lexer": "ipython3",
   "version": "3.10.15"
  }
 },
 "nbformat": 4,
 "nbformat_minor": 5
}
