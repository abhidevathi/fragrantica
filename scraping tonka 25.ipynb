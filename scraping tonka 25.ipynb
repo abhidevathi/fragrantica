{
 "cells": [
  {
   "cell_type": "code",
   "execution_count": 1,
   "id": "b515292d",
   "metadata": {},
   "outputs": [],
   "source": [
    "import os\n",
    "import requests\n",
    "import re\n",
    "\n",
    "from engines import utilities\n",
    "\n",
    "import pandas as pd\n",
    "from bs4 import BeautifulSoup\n",
    "import numpy as np"
   ]
  },
  {
   "cell_type": "code",
   "execution_count": 6,
   "id": "b79aaa63",
   "metadata": {},
   "outputs": [
    {
     "name": "stdout",
     "output_type": "stream",
     "text": [
      "python-requests/2.26.0\n"
     ]
    }
   ],
   "source": [
    "url = 'https://www.fragrantica.com/perfume/Le-Labo/Tonka-25-51697.html'\n",
    "# url = 'https://www.fragrantica.com/perfume/12-Parfumeurs-Francais/Amboise-33179.html'\n",
    "user_agent = 'Mozilla/5.0 (Macintosh; Intel Mac OS X 10_15_7) AppleWebKit/605.1.15 (KHTML, like Gecko) Version/15.1 Safari/605.1.15'\n",
    "\n",
    "page = utilities.get_page(url, user_agent)\n",
    "soup = utilities.get_soup(page)\n",
    "attributes = utilities.create_attributes(page)\n",
    "\n",
    "headers = requests.utils.default_headers()\n",
    "print(headers['User-Agent'])"
   ]
  },
  {
   "cell_type": "code",
   "execution_count": 3,
   "id": "73a637e9",
   "metadata": {},
   "outputs": [],
   "source": [
    "image_div = soup.find('img', itemprop='image')\n",
    "image_url = re.search('src=\\\"(.*)\\\" width', str(image_div)).group(1)\n",
    "attributes['image'] = image_url"
   ]
  },
  {
   "cell_type": "code",
   "execution_count": 4,
   "id": "ea4521c9",
   "metadata": {},
   "outputs": [],
   "source": [
    "# Find the main accords and their proportions.\n",
    "\n",
    "accord_divs = soup.find_all('div', {'class':'cell accord-box'})\n",
    "accords = {}\n",
    "\n",
    "for one_accord in accord_divs:\n",
    "    one_accord_dict = {}\n",
    "    \n",
    "    one_accord_dict['width'] = float(re.search('width\\:(.*)\\%', str(one_accord)).group(1).strip()) / 100\n",
    "    one_accord_dict['text_color'] = re.search('color\\: (.*)\\;background', str(one_accord)).group(1).strip()\n",
    "    one_accord_dict['background'] = re.search('background\\: (.*)\\;opacity', str(one_accord)).group(1).strip()\n",
    "    one_accord_dict['opacity'] = float(re.search('opacity\\: (.*)%\\;width', str(one_accord)).group(1).strip()) / 100\n",
    "    accords[one_accord.text] = one_accord_dict\n",
    "\n",
    "attributes['accords'] = accords"
   ]
  }
 ],
 "metadata": {
  "kernelspec": {
   "display_name": "fragrantica",
   "language": "python",
   "name": "fragrantica"
  },
  "language_info": {
   "codemirror_mode": {
    "name": "ipython",
    "version": 3
   },
   "file_extension": ".py",
   "mimetype": "text/x-python",
   "name": "python",
   "nbconvert_exporter": "python",
   "pygments_lexer": "ipython3",
   "version": "3.9.7"
  }
 },
 "nbformat": 4,
 "nbformat_minor": 5
}
