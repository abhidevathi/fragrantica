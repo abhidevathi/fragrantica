{
 "cells": [
  {
   "cell_type": "code",
   "execution_count": 1,
   "id": "b515292d",
   "metadata": {},
   "outputs": [],
   "source": [
    "import os\n",
    "import requests\n",
    "import re\n",
    "\n",
    "from engines import utilities\n",
    "\n",
    "import pandas as pd\n",
    "from bs4 import BeautifulSoup\n",
    "import numpy as np"
   ]
  },
  {
   "cell_type": "code",
   "execution_count": 5,
   "id": "b79aaa63",
   "metadata": {},
   "outputs": [],
   "source": [
    "url = 'https://www.fragrantica.com/perfume/Le-Labo/Tonka-25-51697.html'\n",
    "# url = 'https://www.fragrantica.com/perfume/12-Parfumeurs-Francais/Amboise-33179.html'\n",
    "user_agent = 'Mozilla/5.0 (Macintosh; Intel Mac OS X 10_15_7) AppleWebKit/605.1.15 (KHTML, like Gecko) Version/15.1 Safari/605.1.15'\n",
    "\n",
    "page = utilities.get_page(url, user_agent)\n",
    "soup = utilities.get_soup(page)\n",
    "attributes = utilities.create_attributes(page)"
   ]
  },
  {
   "cell_type": "code",
   "execution_count": 7,
   "id": "02efa505",
   "metadata": {},
   "outputs": [],
   "source": [
    "image_div = soup.find('img', itemprop='image')\n",
    "image_url = re.search('src=\\\"(.*)\\\" width', str(image_div)).group(1)\n",
    "attributes['image'] = image_url"
   ]
  },
  {
   "cell_type": "code",
   "execution_count": 8,
   "id": "72d1596d",
   "metadata": {},
   "outputs": [],
   "source": [
    "# Find the main accords and their proportions.\n",
    "\n",
    "accord_divs = soup.find_all('div', {'class':'cell accord-box'})\n",
    "accords = {}\n",
    "\n",
    "for one_accord in accord_divs:\n",
    "    one_accord_dict = {}\n",
    "    \n",
    "    one_accord_dict['width'] = float(re.search('width\\:(.*)\\%', str(one_accord)).group(1).strip()) / 100\n",
    "    one_accord_dict['text_color'] = re.search('color\\: (.*)\\;background', str(one_accord)).group(1).strip()\n",
    "    one_accord_dict['background'] = re.search('background\\: (.*)\\;opacity', str(one_accord)).group(1).strip()\n",
    "    one_accord_dict['opacity'] = float(re.search('opacity\\: (.*)%\\;width', str(one_accord)).group(1).strip()) / 100\n",
    "    accords[one_accord.text] = one_accord_dict\n",
    "\n",
    "attributes['accords'] = accords"
   ]
  },
  {
   "cell_type": "code",
   "execution_count": 9,
   "id": "073d16be-962a-48f8-8937-01f6c1daf9b7",
   "metadata": {},
   "outputs": [
    {
     "data": {
      "text/plain": [
       "{'title': 'Tonka 25 Le Labo',\n",
       " 'name': 'Tonka 25',\n",
       " 'designer': 'Le Labo',\n",
       " 'rating': 3.89,\n",
       " 'votes': 442,\n",
       " 'gender': 'both',\n",
       " 'url': 'https://www.fragrantica.com/perfume/Le-Labo/Tonka-25-51697.html',\n",
       " 'image': 'https://fimgs.net/mdimg/perfume/375x500.51697.jpg',\n",
       " 'accords': {'vanilla': {'width': 1.0,\n",
       "   'text_color': '#000000',\n",
       "   'background': '#FFFEC0',\n",
       "   'opacity': 1.0},\n",
       "  'musky': {'width': 0.99590667422953,\n",
       "   'text_color': '#000000',\n",
       "   'background': '#E7D8EA',\n",
       "   'opacity': 0.99649143505389},\n",
       "  'woody': {'width': 0.97216358479864,\n",
       "   'text_color': '#FFFFFF',\n",
       "   'background': '#774414',\n",
       "   'opacity': 0.97614021554169},\n",
       "  'amber': {'width': 0.8976610323312499,\n",
       "   'text_color': '#FFFFFF',\n",
       "   'background': '#bc4d10',\n",
       "   'opacity': 0.9122808848553601},\n",
       "  'powdery': {'width': 0.8595907733030801,\n",
       "   'text_color': '#000000',\n",
       "   'background': '#EEDDCC',\n",
       "   'opacity': 0.87964923425978},\n",
       "  'sweet': {'width': 0.79614051805634,\n",
       "   'text_color': '#FFFFFF',\n",
       "   'background': '#ee363b',\n",
       "   'opacity': 0.82526330119115},\n",
       "  'white floral': {'width': 0.7584794857250899,\n",
       "   'text_color': '#000000',\n",
       "   'background': '#edf2fb',\n",
       "   'opacity': 0.7929824163357899},\n",
       "  'aromatic': {'width': 0.53292410663642,\n",
       "   'text_color': '#000000',\n",
       "   'background': '#37a089',\n",
       "   'opacity': 0.59964923425978},\n",
       "  'citrus': {'width': 0.52924000756287,\n",
       "   'text_color': '#000000',\n",
       "   'background': '#F9FF52',\n",
       "   'opacity': 0.59649143505389},\n",
       "  'animalic': {'width': 0.49608205709964,\n",
       "   'text_color': '#FFFFFF',\n",
       "   'background': '#8E4B13',\n",
       "   'opacity': 0.56807033465683}}}"
      ]
     },
     "execution_count": 9,
     "metadata": {},
     "output_type": "execute_result"
    }
   ],
   "source": [
    "attributes"
   ]
  }
 ],
 "metadata": {
  "kernelspec": {
   "display_name": "fragrantica",
   "language": "python",
   "name": "fragrantica"
  },
  "language_info": {
   "codemirror_mode": {
    "name": "ipython",
    "version": 3
   },
   "file_extension": ".py",
   "mimetype": "text/x-python",
   "name": "python",
   "nbconvert_exporter": "python",
   "pygments_lexer": "ipython3",
   "version": "3.9.7"
  }
 },
 "nbformat": 4,
 "nbformat_minor": 5
}
