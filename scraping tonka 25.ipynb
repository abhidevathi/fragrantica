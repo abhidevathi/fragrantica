{
 "cells": [
  {
   "cell_type": "code",
   "execution_count": 1,
   "id": "b515292d",
   "metadata": {},
   "outputs": [],
   "source": [
    "import os\n",
    "import requests\n",
    "\n",
    "from engines import utilities\n",
    "\n",
    "import pandas as pd\n",
    "from bs4 import BeautifulSoup\n",
    "import numpy as np"
   ]
  },
  {
   "cell_type": "code",
   "execution_count": 4,
   "id": "b79aaa63",
   "metadata": {},
   "outputs": [],
   "source": [
    "url = 'https://www.fragrantica.com/perfume/Le-Labo/Tonka-25-51697.html'\n",
    "# url = 'https://www.fragrantica.com/perfume/12-Parfumeurs-Francais/Amboise-33179.html'\n",
    "user_agent = 'Mozilla/5.0 (Macintosh; Intel Mac OS X 10_15_7) AppleWebKit/605.1.15 (KHTML, like Gecko) Version/15.1 Safari/605.1.15'\n"
   ]
  },
  {
   "cell_type": "code",
   "execution_count": 5,
   "id": "afbd8dc3",
   "metadata": {},
   "outputs": [
    {
     "data": {
      "text/plain": [
       "{'title': 'Tonka 25 Le Labo',\n",
       " 'name': 'Tonka 25',\n",
       " 'designer': 'Le Labo',\n",
       " 'rating': 3.89,\n",
       " 'votes': 442,\n",
       " 'gender': 'both'}"
      ]
     },
     "execution_count": 5,
     "metadata": {},
     "output_type": "execute_result"
    }
   ],
   "source": [
    "attributes = utilities.create_attributes(url, user_agent)\n",
    "attributes"
   ]
  }
 ],
 "metadata": {
  "kernelspec": {
   "display_name": "fragrantica",
   "language": "python",
   "name": "fragrantica"
  },
  "language_info": {
   "codemirror_mode": {
    "name": "ipython",
    "version": 3
   },
   "file_extension": ".py",
   "mimetype": "text/x-python",
   "name": "python",
   "nbconvert_exporter": "python",
   "pygments_lexer": "ipython3",
   "version": "3.9.7"
  }
 },
 "nbformat": 4,
 "nbformat_minor": 5
}
